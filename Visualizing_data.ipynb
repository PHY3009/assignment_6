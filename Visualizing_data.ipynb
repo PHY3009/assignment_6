{
 "cells": [
  {
   "cell_type": "code",
   "execution_count": 27,
   "metadata": {
    "collapsed": true
   },
   "outputs": [],
   "source": [
    "import pandas as pd\n",
    "import matplotlib.pyplot as plt\n",
    "%matplotlib inline"
   ]
  },
  {
   "cell_type": "code",
   "execution_count": 73,
   "metadata": {
    "collapsed": false
   },
   "outputs": [
    {
     "data": {
      "text/html": [
       "<div>\n",
       "<table border=\"1\" class=\"dataframe\">\n",
       "  <thead>\n",
       "    <tr style=\"text-align: right;\">\n",
       "      <th></th>\n",
       "      <th>STN_ID</th>\n",
       "      <th>DATE</th>\n",
       "      <th>Q_FLAG</th>\n",
       "      <th>LATITUDE</th>\n",
       "      <th>LONGITUDE</th>\n",
       "      <th>DEPTH</th>\n",
       "      <th>sig_wave_height</th>\n",
       "      <th>wave_spectrum_peak_period</th>\n",
       "      <th>sig_wave_height_bouy</th>\n",
       "      <th>maximum_zero_crossing_wave</th>\n",
       "      <th>...</th>\n",
       "      <th>wind_direction</th>\n",
       "      <th>wind_speed</th>\n",
       "      <th>wind_gust_speed</th>\n",
       "      <th>wind_direction.1</th>\n",
       "      <th>wind_speed.1</th>\n",
       "      <th>wind_gust_speed.1</th>\n",
       "      <th>sea_level_atmospheric_pressure</th>\n",
       "      <th>sea_level_atmospheric_pressure.1</th>\n",
       "      <th>dry_bulb_air_temperature</th>\n",
       "      <th>sea_surface_temperature</th>\n",
       "    </tr>\n",
       "  </thead>\n",
       "  <tbody>\n",
       "    <tr>\n",
       "      <th>0</th>\n",
       "      <td>C46131</td>\n",
       "      <td>10/20/1992 12:09</td>\n",
       "      <td>1</td>\n",
       "      <td>49.91</td>\n",
       "      <td>124.99</td>\n",
       "      <td>18</td>\n",
       "      <td>2.31</td>\n",
       "      <td>5.89</td>\n",
       "      <td>2.4</td>\n",
       "      <td>4.8</td>\n",
       "      <td>...</td>\n",
       "      <td>124</td>\n",
       "      <td>12.5</td>\n",
       "      <td>15.2</td>\n",
       "      <td>118</td>\n",
       "      <td>11.9</td>\n",
       "      <td>14.5</td>\n",
       "      <td>998.0</td>\n",
       "      <td>990.1</td>\n",
       "      <td>12.0</td>\n",
       "      <td>10.3</td>\n",
       "    </tr>\n",
       "    <tr>\n",
       "      <th>1</th>\n",
       "      <td>C46131</td>\n",
       "      <td>10/20/1992 13:09</td>\n",
       "      <td>1</td>\n",
       "      <td>49.91</td>\n",
       "      <td>124.99</td>\n",
       "      <td>18</td>\n",
       "      <td>2.18</td>\n",
       "      <td>6.92</td>\n",
       "      <td>2.3</td>\n",
       "      <td>4.5</td>\n",
       "      <td>...</td>\n",
       "      <td>140</td>\n",
       "      <td>14.4</td>\n",
       "      <td>17.3</td>\n",
       "      <td>134</td>\n",
       "      <td>13.8</td>\n",
       "      <td>16.9</td>\n",
       "      <td>998.1</td>\n",
       "      <td>990.1</td>\n",
       "      <td>12.8</td>\n",
       "      <td>10.3</td>\n",
       "    </tr>\n",
       "    <tr>\n",
       "      <th>2</th>\n",
       "      <td>C46131</td>\n",
       "      <td>10/20/1992 14:09</td>\n",
       "      <td>1</td>\n",
       "      <td>49.91</td>\n",
       "      <td>124.99</td>\n",
       "      <td>18</td>\n",
       "      <td>2.34</td>\n",
       "      <td>6.40</td>\n",
       "      <td>2.4</td>\n",
       "      <td>4.2</td>\n",
       "      <td>...</td>\n",
       "      <td>138</td>\n",
       "      <td>12.8</td>\n",
       "      <td>15.6</td>\n",
       "      <td>132</td>\n",
       "      <td>12.3</td>\n",
       "      <td>15.1</td>\n",
       "      <td>997.7</td>\n",
       "      <td>990.1</td>\n",
       "      <td>12.9</td>\n",
       "      <td>10.2</td>\n",
       "    </tr>\n",
       "    <tr>\n",
       "      <th>3</th>\n",
       "      <td>C46131</td>\n",
       "      <td>10/20/1992 15:09</td>\n",
       "      <td>1</td>\n",
       "      <td>49.91</td>\n",
       "      <td>124.99</td>\n",
       "      <td>18</td>\n",
       "      <td>2.02</td>\n",
       "      <td>6.40</td>\n",
       "      <td>2.1</td>\n",
       "      <td>4.1</td>\n",
       "      <td>...</td>\n",
       "      <td>149</td>\n",
       "      <td>11.8</td>\n",
       "      <td>14.1</td>\n",
       "      <td>143</td>\n",
       "      <td>11.3</td>\n",
       "      <td>13.7</td>\n",
       "      <td>999.5</td>\n",
       "      <td>990.1</td>\n",
       "      <td>12.7</td>\n",
       "      <td>10.2</td>\n",
       "    </tr>\n",
       "    <tr>\n",
       "      <th>4</th>\n",
       "      <td>C46131</td>\n",
       "      <td>10/20/1992 16:09</td>\n",
       "      <td>1</td>\n",
       "      <td>49.91</td>\n",
       "      <td>124.99</td>\n",
       "      <td>18</td>\n",
       "      <td>1.54</td>\n",
       "      <td>6.40</td>\n",
       "      <td>1.6</td>\n",
       "      <td>3.2</td>\n",
       "      <td>...</td>\n",
       "      <td>178</td>\n",
       "      <td>7.9</td>\n",
       "      <td>10.5</td>\n",
       "      <td>172</td>\n",
       "      <td>7.6</td>\n",
       "      <td>10.1</td>\n",
       "      <td>1001.5</td>\n",
       "      <td>990.1</td>\n",
       "      <td>12.4</td>\n",
       "      <td>10.2</td>\n",
       "    </tr>\n",
       "  </tbody>\n",
       "</table>\n",
       "<p>5 rows × 21 columns</p>\n",
       "</div>"
      ],
      "text/plain": [
       "   STN_ID              DATE  Q_FLAG  LATITUDE  LONGITUDE  DEPTH  \\\n",
       "0  C46131  10/20/1992 12:09       1     49.91     124.99     18   \n",
       "1  C46131  10/20/1992 13:09       1     49.91     124.99     18   \n",
       "2  C46131  10/20/1992 14:09       1     49.91     124.99     18   \n",
       "3  C46131  10/20/1992 15:09       1     49.91     124.99     18   \n",
       "4  C46131  10/20/1992 16:09       1     49.91     124.99     18   \n",
       "\n",
       "   sig_wave_height  wave_spectrum_peak_period  sig_wave_height_bouy  \\\n",
       "0             2.31                       5.89                   2.4   \n",
       "1             2.18                       6.92                   2.3   \n",
       "2             2.34                       6.40                   2.4   \n",
       "3             2.02                       6.40                   2.1   \n",
       "4             1.54                       6.40                   1.6   \n",
       "\n",
       "   maximum_zero_crossing_wave           ...             wind_direction  \\\n",
       "0                         4.8           ...                        124   \n",
       "1                         4.5           ...                        140   \n",
       "2                         4.2           ...                        138   \n",
       "3                         4.1           ...                        149   \n",
       "4                         3.2           ...                        178   \n",
       "\n",
       "   wind_speed  wind_gust_speed  wind_direction.1  wind_speed.1  \\\n",
       "0        12.5             15.2               118          11.9   \n",
       "1        14.4             17.3               134          13.8   \n",
       "2        12.8             15.6               132          12.3   \n",
       "3        11.8             14.1               143          11.3   \n",
       "4         7.9             10.5               172           7.6   \n",
       "\n",
       "   wind_gust_speed.1  sea_level_atmospheric_pressure  \\\n",
       "0               14.5                           998.0   \n",
       "1               16.9                           998.1   \n",
       "2               15.1                           997.7   \n",
       "3               13.7                           999.5   \n",
       "4               10.1                          1001.5   \n",
       "\n",
       "   sea_level_atmospheric_pressure.1  dry_bulb_air_temperature  \\\n",
       "0                             990.1                      12.0   \n",
       "1                             990.1                      12.8   \n",
       "2                             990.1                      12.9   \n",
       "3                             990.1                      12.7   \n",
       "4                             990.1                      12.4   \n",
       "\n",
       "   sea_surface_temperature  \n",
       "0                     10.3  \n",
       "1                     10.3  \n",
       "2                     10.2  \n",
       "3                     10.2  \n",
       "4                     10.2  \n",
       "\n",
       "[5 rows x 21 columns]"
      ]
     },
     "execution_count": 73,
     "metadata": {},
     "output_type": "execute_result"
    }
   ],
   "source": [
    "gwv_data = pd.read_csv('../c46131.csv', sep=',')\n",
    "gwv_data.head(n=5)\n",
    "\n",
    "del gwv_data['WSS$']\n",
    "del gwv_data['WSS$.1']\n",
    "gwv_data.head(n=5)"
   ]
  },
  {
   "cell_type": "code",
   "execution_count": 85,
   "metadata": {
    "collapsed": false
   },
   "outputs": [
    {
     "data": {
      "text/html": [
       "<div>\n",
       "<table border=\"1\" class=\"dataframe\">\n",
       "  <thead>\n",
       "    <tr style=\"text-align: right;\">\n",
       "      <th></th>\n",
       "      <th>Q_FLAG</th>\n",
       "      <th>LATITUDE</th>\n",
       "      <th>LONGITUDE</th>\n",
       "      <th>DEPTH</th>\n",
       "      <th>sig_wave_height</th>\n",
       "      <th>wave_spectrum_peak_period</th>\n",
       "      <th>sig_wave_height_bouy</th>\n",
       "      <th>maximum_zero_crossing_wave</th>\n",
       "      <th>wave_spectrum_peak_period_bouy</th>\n",
       "      <th>wind_direction</th>\n",
       "      <th>wind_speed</th>\n",
       "      <th>wind_gust_speed</th>\n",
       "      <th>wind_direction.1</th>\n",
       "      <th>wind_speed.1</th>\n",
       "      <th>wind_gust_speed.1</th>\n",
       "      <th>sea_level_atmospheric_pressure</th>\n",
       "      <th>sea_level_atmospheric_pressure.1</th>\n",
       "      <th>dry_bulb_air_temperature</th>\n",
       "      <th>sea_surface_temperature</th>\n",
       "    </tr>\n",
       "  </thead>\n",
       "  <tbody>\n",
       "    <tr>\n",
       "      <th>1992-10-31</th>\n",
       "      <td>1.498069</td>\n",
       "      <td>49.91</td>\n",
       "      <td>124.99</td>\n",
       "      <td>18</td>\n",
       "      <td>0.639846</td>\n",
       "      <td>3.845676</td>\n",
       "      <td>0.665637</td>\n",
       "      <td>1.353282</td>\n",
       "      <td>13.461390</td>\n",
       "      <td>187.185328</td>\n",
       "      <td>5.591506</td>\n",
       "      <td>7.018919</td>\n",
       "      <td>185.845560</td>\n",
       "      <td>5.377992</td>\n",
       "      <td>6.810425</td>\n",
       "      <td>1010.201158</td>\n",
       "      <td>990.1</td>\n",
       "      <td>10.590347</td>\n",
       "      <td>10.552896</td>\n",
       "    </tr>\n",
       "    <tr>\n",
       "      <th>1992-11-30</th>\n",
       "      <td>2.033019</td>\n",
       "      <td>49.91</td>\n",
       "      <td>124.99</td>\n",
       "      <td>18</td>\n",
       "      <td>0.443522</td>\n",
       "      <td>3.438789</td>\n",
       "      <td>0.473113</td>\n",
       "      <td>0.948585</td>\n",
       "      <td>19.895755</td>\n",
       "      <td>173.790881</td>\n",
       "      <td>5.152044</td>\n",
       "      <td>6.367767</td>\n",
       "      <td>175.773585</td>\n",
       "      <td>4.983648</td>\n",
       "      <td>6.170755</td>\n",
       "      <td>1019.930975</td>\n",
       "      <td>990.1</td>\n",
       "      <td>7.952987</td>\n",
       "      <td>9.695440</td>\n",
       "    </tr>\n",
       "    <tr>\n",
       "      <th>1992-12-31</th>\n",
       "      <td>2.487138</td>\n",
       "      <td>49.91</td>\n",
       "      <td>124.99</td>\n",
       "      <td>18</td>\n",
       "      <td>0.521350</td>\n",
       "      <td>3.582203</td>\n",
       "      <td>0.552733</td>\n",
       "      <td>1.116077</td>\n",
       "      <td>22.503215</td>\n",
       "      <td>214.059486</td>\n",
       "      <td>5.855627</td>\n",
       "      <td>7.361415</td>\n",
       "      <td>218.347267</td>\n",
       "      <td>5.667685</td>\n",
       "      <td>7.158039</td>\n",
       "      <td>1014.832958</td>\n",
       "      <td>990.1</td>\n",
       "      <td>4.358521</td>\n",
       "      <td>8.273633</td>\n",
       "    </tr>\n",
       "    <tr>\n",
       "      <th>1993-01-31</th>\n",
       "      <td>2.770370</td>\n",
       "      <td>49.91</td>\n",
       "      <td>124.99</td>\n",
       "      <td>18</td>\n",
       "      <td>0.384593</td>\n",
       "      <td>3.173941</td>\n",
       "      <td>0.412296</td>\n",
       "      <td>0.841481</td>\n",
       "      <td>24.302222</td>\n",
       "      <td>223.434074</td>\n",
       "      <td>5.042370</td>\n",
       "      <td>6.378074</td>\n",
       "      <td>221.640000</td>\n",
       "      <td>4.872593</td>\n",
       "      <td>6.189037</td>\n",
       "      <td>1016.453185</td>\n",
       "      <td>990.1</td>\n",
       "      <td>3.297037</td>\n",
       "      <td>7.243556</td>\n",
       "    </tr>\n",
       "    <tr>\n",
       "      <th>1993-02-28</th>\n",
       "      <td>2.196460</td>\n",
       "      <td>49.91</td>\n",
       "      <td>124.99</td>\n",
       "      <td>18</td>\n",
       "      <td>0.157274</td>\n",
       "      <td>3.007274</td>\n",
       "      <td>0.164425</td>\n",
       "      <td>0.354690</td>\n",
       "      <td>20.306726</td>\n",
       "      <td>207.605310</td>\n",
       "      <td>2.935044</td>\n",
       "      <td>3.775398</td>\n",
       "      <td>209.541593</td>\n",
       "      <td>2.816991</td>\n",
       "      <td>3.657345</td>\n",
       "      <td>1018.012743</td>\n",
       "      <td>990.1</td>\n",
       "      <td>5.536814</td>\n",
       "      <td>7.602655</td>\n",
       "    </tr>\n",
       "  </tbody>\n",
       "</table>\n",
       "</div>"
      ],
      "text/plain": [
       "              Q_FLAG  LATITUDE  LONGITUDE  DEPTH  sig_wave_height  \\\n",
       "1992-10-31  1.498069     49.91     124.99     18         0.639846   \n",
       "1992-11-30  2.033019     49.91     124.99     18         0.443522   \n",
       "1992-12-31  2.487138     49.91     124.99     18         0.521350   \n",
       "1993-01-31  2.770370     49.91     124.99     18         0.384593   \n",
       "1993-02-28  2.196460     49.91     124.99     18         0.157274   \n",
       "\n",
       "            wave_spectrum_peak_period  sig_wave_height_bouy  \\\n",
       "1992-10-31                   3.845676              0.665637   \n",
       "1992-11-30                   3.438789              0.473113   \n",
       "1992-12-31                   3.582203              0.552733   \n",
       "1993-01-31                   3.173941              0.412296   \n",
       "1993-02-28                   3.007274              0.164425   \n",
       "\n",
       "            maximum_zero_crossing_wave  wave_spectrum_peak_period_bouy  \\\n",
       "1992-10-31                    1.353282                       13.461390   \n",
       "1992-11-30                    0.948585                       19.895755   \n",
       "1992-12-31                    1.116077                       22.503215   \n",
       "1993-01-31                    0.841481                       24.302222   \n",
       "1993-02-28                    0.354690                       20.306726   \n",
       "\n",
       "            wind_direction  wind_speed  wind_gust_speed  wind_direction.1  \\\n",
       "1992-10-31      187.185328    5.591506         7.018919        185.845560   \n",
       "1992-11-30      173.790881    5.152044         6.367767        175.773585   \n",
       "1992-12-31      214.059486    5.855627         7.361415        218.347267   \n",
       "1993-01-31      223.434074    5.042370         6.378074        221.640000   \n",
       "1993-02-28      207.605310    2.935044         3.775398        209.541593   \n",
       "\n",
       "            wind_speed.1  wind_gust_speed.1  sea_level_atmospheric_pressure  \\\n",
       "1992-10-31      5.377992           6.810425                     1010.201158   \n",
       "1992-11-30      4.983648           6.170755                     1019.930975   \n",
       "1992-12-31      5.667685           7.158039                     1014.832958   \n",
       "1993-01-31      4.872593           6.189037                     1016.453185   \n",
       "1993-02-28      2.816991           3.657345                     1018.012743   \n",
       "\n",
       "            sea_level_atmospheric_pressure.1  dry_bulb_air_temperature  \\\n",
       "1992-10-31                             990.1                 10.590347   \n",
       "1992-11-30                             990.1                  7.952987   \n",
       "1992-12-31                             990.1                  4.358521   \n",
       "1993-01-31                             990.1                  3.297037   \n",
       "1993-02-28                             990.1                  5.536814   \n",
       "\n",
       "            sea_surface_temperature  \n",
       "1992-10-31                10.552896  \n",
       "1992-11-30                 9.695440  \n",
       "1992-12-31                 8.273633  \n",
       "1993-01-31                 7.243556  \n",
       "1993-02-28                 7.602655  "
      ]
     },
     "execution_count": 85,
     "metadata": {},
     "output_type": "execute_result"
    }
   ],
   "source": [
    "# Making the Date column the index for the data frame\n",
    "gwv_data = pd.read_csv('../c46131.csv', sep=',', index_col='DATE')\n",
    "\n",
    "del gwv_data['WSS$']\n",
    "del gwv_data['WSS$.1']\n",
    "\n",
    "# Changing the Date to pnadas datetime indicator\n",
    "gwv_data.index = pd.to_datetime(gwv_data.index)\n",
    "\n",
    "\n",
    "# Average the data in gwv_data for each month\n",
    "gwv_monthly = gwv_data.resample('M', how = ('mean'))\n",
    "gwv_monthly.head(n=5)\n"
   ]
  },
  {
   "cell_type": "code",
   "execution_count": 146,
   "metadata": {
    "collapsed": false
   },
   "outputs": [
    {
     "data": {
      "text/plain": [
       "Q_FLAG                                 2.394841\n",
       "LATITUDE                              49.910000\n",
       "LONGITUDE                            124.990000\n",
       "DEPTH                                 18.000000\n",
       "sig_wave_height                        0.187183\n",
       "wave_spectrum_peak_period              2.891964\n",
       "sig_wave_height_bouy                   0.229563\n",
       "maximum_zero_crossing_wave             0.447421\n",
       "wave_spectrum_peak_period_bouy        29.358929\n",
       "wind_direction                       242.488095\n",
       "wind_speed                             3.397619\n",
       "wind_gust_speed                        4.115278\n",
       "wind_direction.1                     244.323413\n",
       "wind_speed.1                           3.227183\n",
       "wind_gust_speed.1                      3.938889\n",
       "sea_level_atmospheric_pressure      1017.810317\n",
       "sea_level_atmospheric_pressure.1    1017.522222\n",
       "dry_bulb_air_temperature              18.306151\n",
       "sea_surface_temperature               19.263889\n",
       "Name: 1994-08-31 00:00:00, dtype: float64"
      ]
     },
     "execution_count": 146,
     "metadata": {},
     "output_type": "execute_result"
    }
   ],
   "source": [
    "# Findinge the maximum value of a column in pandas (not part of the assignment, but very useful to know)\n",
    "gwv_monthly.loc[gwv_monthly['sea_surface_temperature'].idxmax()]"
   ]
  },
  {
   "cell_type": "code",
   "execution_count": 76,
   "metadata": {
    "collapsed": false
   },
   "outputs": [],
   "source": [
    "# Subsetting the monthly averaged data for a three year time period from November 1992 to November 1995\n",
    "gwv_monthly_1 = gwv_monthly.iloc[:36,]"
   ]
  },
  {
   "cell_type": "code",
   "execution_count": 143,
   "metadata": {
    "collapsed": false
   },
   "outputs": [
    {
     "data": {
      "image/png": "[encoded data removed]",
      "text/plain": [
       "<matplotlib.figure.Figure at 0x116568940>"
      ]
     },
     "metadata": {},
     "output_type": "display_data"
    }
   ],
   "source": [
    "# Setting the figure size\n",
    "plt.figure(figsize=(9,6))\n",
    "\n",
    "# Plotting the average monthly significant wave height over the 3 year period from November 1992 to November 1995\n",
    "plt.plot(gwv_monthly_1.index, gwv_monthly_1.sig_wave_height, marker='o', linestyle='--')\n",
    "\n",
    "# Labeling the s and y axes\n",
    "plt.xlabel('Date', fontsize=13)\n",
    "plt.ylabel('Significant Wave height', fontsize=13)\n",
    "\n",
    "# Adding a graph label\n",
    "plt.title('Sentry Shoals average monthly wave height', fontsize=16)\n",
    "\n",
    "plt.grid(True)\n",
    "\n",
    "# Making the dates along the bottom slightly smaller for aesthetic benefit\n",
    "plt.tick_params(axis=0, which='major', labelsize=8)"
   ]
  },
  {
   "cell_type": "code",
   "execution_count": 78,
   "metadata": {
    "collapsed": false
   },
   "outputs": [
    {
     "data": {
      "text/plain": [
       "(30, 19)"
      ]
     },
     "execution_count": 78,
     "metadata": {},
     "output_type": "execute_result"
    }
   ],
   "source": [
    "# Dropping those months for which no data exists\n",
    "gwv_monthly_2 = gwv_monthly_1.dropna()\n",
    "gwv_monthly_2.shape"
   ]
  },
  {
   "cell_type": "code",
   "execution_count": 140,
   "metadata": {
    "collapsed": false
   },
   "outputs": [
    {
     "data": {
      "text/plain": [
       "<matplotlib.text.Text at 0x115913b00>"
      ]
     },
     "execution_count": 140,
     "metadata": {},
     "output_type": "execute_result"
    },
    {
     "data": {
      "image/png": "[encoded data removed]",
      "text/plain": [
       "<matplotlib.figure.Figure at 0x115932978>"
      ]
     },
     "metadata": {},
     "output_type": "display_data"
    }
   ],
   "source": [
    "# Plotting a histogram for the wave height frequency over the 3 year period between November 1992 and November 1995\n",
    "plt.hist(gwv_monthly_2.sig_wave_height, color='grey')\n",
    "\n",
    "# Creating a title as well as x and y axis labels\n",
    "plt.title('Histogram of Average Sentry Shoals Wave Height', y=1.1, fontsize=16)\n",
    "plt.xlabel('Frequency', fontsize=13)\n",
    "plt.ylabel('Average Monthly Wave Height', fontsize=13)\n",
    "\n",
    "\n"
   ]
  },
  {
   "cell_type": "code",
   "execution_count": 147,
   "metadata": {
    "collapsed": false
   },
   "outputs": [
    {
     "data": {
      "text/plain": [
       "<matplotlib.text.Text at 0x1194f5e48>"
      ]
     },
     "execution_count": 147,
     "metadata": {},
     "output_type": "execute_result"
    },
    {
     "data": {
      "image/png": "[encoded data removed]",
      "text/plain": [
       "<matplotlib.figure.Figure at 0x1195259e8>"
      ]
     },
     "metadata": {},
     "output_type": "display_data"
    }
   ],
   "source": [
    "# Adjusting the figure size \n",
    "plt.figure(figsize=(6,5))\n",
    "\n",
    "# Plotting a violn plot of monthly average wave height\n",
    "plt.boxplot(gwv_monthly_2.sig_wave_height)\n",
    "\n",
    "# Creating a title and y axis label fot the boxplot\n",
    "plt.title('Boxplot of Sentry Shoals Significant Wave Height', y=1.1, fontsize=16)\n",
    "plt.ylabel('Significant Wave Height', fontsize=13)"
   ]
  },
  {
   "cell_type": "markdown",
   "metadata": {},
   "source": [
    "when I was just beginning this assignment, I tried to think about what information from this data set would benefit my final project the most. Since I already know that phytoplankton blooms rely greatly upon the vertical mixing in the water column, and that much of this vertical mixing is a result of wave power, I decided that average monthly wave height would be a useful characteristic to examine. My first plot was just a simple line graph of the average monthly wave height at Sentry Shoals. I thought this would give me an introduction to yearly trends in the wave height. However, without statistical analysis, this first line graph just showed me which months had larger average wave heights than others as opposed to identifying an annual trend. However, after examining the raw data for months of greater average wave height, I learned that most often this was caused from repeat storm events. For both December and January 1994, storm events with high wind and wave recordings seemed prevalent during these months in the raw data.  Next I wanted to visualize the distribution of average monthly wave height across the three years, so I created a histogram. This could be an important concept to perfrom when I begin to examine phtyoplankton. For instance, I would potentially be able to comment on how the yearly distribution of average monthly wave height impacts the phytoplankton for given year. Additionally, this plot has already given me insight into wave height distribution, for instance I know that wave heights at Sentry Shoals are most likely (estimating before I have doen the statistical analysis) right skewed. the final plot that I created was a boxplot. This plot adds statistical information that the histogram does not show such as the median of average monthly wave height as well as the quartile composition of the average monthly wave height. Both of these may be important when I begin a statistical analysis of phytoplankton blooms in the Nortern Strait of Georgia. "
   ]
  },
  {
   "cell_type": "code",
   "execution_count": null,
   "metadata": {
    "collapsed": true
   },
   "outputs": [],
   "source": []
  }
 ],
 "metadata": {
  "kernelspec": {
   "display_name": "Python 3",
   "language": "python",
   "name": "python3"
  },
  "language_info": {
   "codemirror_mode": {
    "name": "ipython",
    "version": 3
   },
   "file_extension": ".py",
   "mimetype": "text/x-python",
   "name": "python",
   "nbconvert_exporter": "python",
   "pygments_lexer": "ipython3",
   "version": "3.4.3"
  }
 },
 "nbformat": 4,
 "nbformat_minor": 0
}
