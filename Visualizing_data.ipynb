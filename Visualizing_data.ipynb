{
 "cells": [
  {
   "cell_type": "code",
   "execution_count": 16,
   "metadata": {
    "collapsed": false
   },
   "outputs": [
    {
     "data": {
      "text/html": [
       "<div>\n",
       "<table border=\"1\" class=\"dataframe\">\n",
       "  <thead>\n",
       "    <tr style=\"text-align: right;\">\n",
       "      <th></th>\n",
       "      <th>test</th>\n",
       "      <th>rain_mm</th>\n",
       "      <th>temp</th>\n",
       "      <th>rh</th>\n",
       "      <th>wind_direction</th>\n",
       "      <th>wind_speed</th>\n",
       "      <th>gust_speed</th>\n",
       "    </tr>\n",
       "    <tr>\n",
       "      <th>Date_Time</th>\n",
       "      <th></th>\n",
       "      <th></th>\n",
       "      <th></th>\n",
       "      <th></th>\n",
       "      <th></th>\n",
       "      <th></th>\n",
       "      <th></th>\n",
       "    </tr>\n",
       "  </thead>\n",
       "  <tbody>\n",
       "    <tr>\n",
       "      <th>09/23/15 09:04:59  AM</th>\n",
       "      <td>1</td>\n",
       "      <td>NaN</td>\n",
       "      <td>12.243</td>\n",
       "      <td>84.6</td>\n",
       "      <td>64.6</td>\n",
       "      <td>0.76</td>\n",
       "      <td>6.30</td>\n",
       "    </tr>\n",
       "    <tr>\n",
       "      <th>09/23/15 09:19:59  AM</th>\n",
       "      <td>2</td>\n",
       "      <td>0.0</td>\n",
       "      <td>12.316</td>\n",
       "      <td>84.4</td>\n",
       "      <td>92.7</td>\n",
       "      <td>0.00</td>\n",
       "      <td>0.76</td>\n",
       "    </tr>\n",
       "    <tr>\n",
       "      <th>09/23/15 09:34:59  AM</th>\n",
       "      <td>3</td>\n",
       "      <td>0.0</td>\n",
       "      <td>12.340</td>\n",
       "      <td>84.7</td>\n",
       "      <td>1.4</td>\n",
       "      <td>0.00</td>\n",
       "      <td>1.51</td>\n",
       "    </tr>\n",
       "    <tr>\n",
       "      <th>09/23/15 09:49:59  AM</th>\n",
       "      <td>4</td>\n",
       "      <td>0.0</td>\n",
       "      <td>12.074</td>\n",
       "      <td>84.6</td>\n",
       "      <td>7.0</td>\n",
       "      <td>0.00</td>\n",
       "      <td>1.26</td>\n",
       "    </tr>\n",
       "    <tr>\n",
       "      <th>09/23/15 10:04:59  AM</th>\n",
       "      <td>5</td>\n",
       "      <td>0.0</td>\n",
       "      <td>12.413</td>\n",
       "      <td>86.3</td>\n",
       "      <td>325.7</td>\n",
       "      <td>0.00</td>\n",
       "      <td>1.26</td>\n",
       "    </tr>\n",
       "    <tr>\n",
       "      <th>...</th>\n",
       "      <td>...</td>\n",
       "      <td>...</td>\n",
       "      <td>...</td>\n",
       "      <td>...</td>\n",
       "      <td>...</td>\n",
       "      <td>...</td>\n",
       "      <td>...</td>\n",
       "    </tr>\n",
       "    <tr>\n",
       "      <th>10/31/15 01:04:59  PM</th>\n",
       "      <td>3665</td>\n",
       "      <td>0.0</td>\n",
       "      <td>13.281</td>\n",
       "      <td>91.5</td>\n",
       "      <td>88.4</td>\n",
       "      <td>0.00</td>\n",
       "      <td>0.50</td>\n",
       "    </tr>\n",
       "    <tr>\n",
       "      <th>10/31/15 01:19:59  PM</th>\n",
       "      <td>3666</td>\n",
       "      <td>0.2</td>\n",
       "      <td>12.654</td>\n",
       "      <td>94.5</td>\n",
       "      <td>99.7</td>\n",
       "      <td>0.00</td>\n",
       "      <td>1.51</td>\n",
       "    </tr>\n",
       "    <tr>\n",
       "      <th>10/31/15 01:34:59  PM</th>\n",
       "      <td>3667</td>\n",
       "      <td>0.0</td>\n",
       "      <td>12.122</td>\n",
       "      <td>97.9</td>\n",
       "      <td>233.1</td>\n",
       "      <td>0.00</td>\n",
       "      <td>1.76</td>\n",
       "    </tr>\n",
       "    <tr>\n",
       "      <th>10/31/15 01:49:59  PM</th>\n",
       "      <td>3668</td>\n",
       "      <td>0.2</td>\n",
       "      <td>11.880</td>\n",
       "      <td>98.2</td>\n",
       "      <td>203.6</td>\n",
       "      <td>0.00</td>\n",
       "      <td>2.52</td>\n",
       "    </tr>\n",
       "    <tr>\n",
       "      <th>10/31/15 02:04:59  PM</th>\n",
       "      <td>3669</td>\n",
       "      <td>0.4</td>\n",
       "      <td>11.734</td>\n",
       "      <td>98.1</td>\n",
       "      <td>140.4</td>\n",
       "      <td>0.00</td>\n",
       "      <td>0.50</td>\n",
       "    </tr>\n",
       "  </tbody>\n",
       "</table>\n",
       "<p>3669 rows × 7 columns</p>\n",
       "</div>"
      ],
      "text/plain": [
       "                       test  rain_mm    temp    rh  wind_direction  \\\n",
       "Date_Time                                                            \n",
       "09/23/15 09:04:59  AM     1      NaN  12.243  84.6            64.6   \n",
       "09/23/15 09:19:59  AM     2      0.0  12.316  84.4            92.7   \n",
       "09/23/15 09:34:59  AM     3      0.0  12.340  84.7             1.4   \n",
       "09/23/15 09:49:59  AM     4      0.0  12.074  84.6             7.0   \n",
       "09/23/15 10:04:59  AM     5      0.0  12.413  86.3           325.7   \n",
       "...                     ...      ...     ...   ...             ...   \n",
       "10/31/15 01:04:59  PM  3665      0.0  13.281  91.5            88.4   \n",
       "10/31/15 01:19:59  PM  3666      0.2  12.654  94.5            99.7   \n",
       "10/31/15 01:34:59  PM  3667      0.0  12.122  97.9           233.1   \n",
       "10/31/15 01:49:59  PM  3668      0.2  11.880  98.2           203.6   \n",
       "10/31/15 02:04:59  PM  3669      0.4  11.734  98.1           140.4   \n",
       "\n",
       "                       wind_speed  gust_speed  \n",
       "Date_Time                                      \n",
       "09/23/15 09:04:59  AM        0.76        6.30  \n",
       "09/23/15 09:19:59  AM        0.00        0.76  \n",
       "09/23/15 09:34:59  AM        0.00        1.51  \n",
       "09/23/15 09:49:59  AM        0.00        1.26  \n",
       "09/23/15 10:04:59  AM        0.00        1.26  \n",
       "...                           ...         ...  \n",
       "10/31/15 01:04:59  PM        0.00        0.50  \n",
       "10/31/15 01:19:59  PM        0.00        1.51  \n",
       "10/31/15 01:34:59  PM        0.00        1.76  \n",
       "10/31/15 01:49:59  PM        0.00        2.52  \n",
       "10/31/15 02:04:59  PM        0.00        0.50  \n",
       "\n",
       "[3669 rows x 7 columns]"
      ]
     },
     "execution_count": 16,
     "metadata": {},
     "output_type": "execute_result"
    }
   ],
   "source": [
    "import numpy as np\n",
    "import matplotlib.pyplot as plt\n",
    "%matplotlib inline\n",
    "\n",
    "#import the python library pandas\n",
    "import pandas as pd \n",
    "\n",
    "#here i set limits on what i allow the phyton to show in tables\n",
    "from pandas import set_option\n",
    "set_option('display.max_rows',10) \n",
    "#limits rows show in tablle by 10(above). change this number if you want more or less rows visible\n",
    "\n",
    "#import weather data to python. \n",
    "weather_data_quest = pd.read_csv('QuestU_Remote_Weather_Station_oct312015.csv',index_col='Date_Time')\n",
    "\n",
    "\n",
    "#assigning columns names \n",
    "weather_data_quest.columns=[['test','rain_mm','temp','rh','wind_direction','wind_speed','gust_speed']]\n",
    "\n",
    "#show what the table of weather_data_quest looks like. \n",
    "weather_data_quest\n"
   ]
  },
  {
   "cell_type": "code",
   "execution_count": null,
   "metadata": {
    "collapsed": true
   },
   "outputs": [],
   "source": []
  },
  {
   "cell_type": "code",
   "execution_count": 17,
   "metadata": {
    "collapsed": false
   },
   "outputs": [
    {
     "data": {
      "text/plain": [
       "test                int64\n",
       "rain_mm           float64\n",
       "temp              float64\n",
       "rh                float64\n",
       "wind_direction    float64\n",
       "wind_speed        float64\n",
       "gust_speed        float64\n",
       "dtype: object"
      ]
     },
     "execution_count": 17,
     "metadata": {},
     "output_type": "execute_result"
    }
   ],
   "source": [
    "weather_data_quest.dtypes"
   ]
  },
  {
   "cell_type": "code",
   "execution_count": null,
   "metadata": {
    "collapsed": false
   },
   "outputs": [],
   "source": []
  },
  {
   "cell_type": "code",
   "execution_count": null,
   "metadata": {
    "collapsed": true
   },
   "outputs": [],
   "source": []
  },
  {
   "cell_type": "code",
   "execution_count": 24,
   "metadata": {
    "collapsed": false
   },
   "outputs": [
    {
     "data": {
      "image/png": "[encoded data removed]",
      "text/plain": [
       "<matplotlib.figure.Figure at 0x10a35ec88>"
      ]
     },
     "metadata": {},
     "output_type": "display_data"
    }
   ],
   "source": [
    "plt.figure(figsize=(15,5))\n",
    "\n",
    "# define subplot 1 \n",
    "plt.subplot(1,2,1)\n",
    "plt.plot(weather_data_quest.wind_speed, marker='*', color='y', linestyle='')\n",
    "\n",
    "#add title\n",
    "plt.title('Wind Speed trend')\n",
    "\n",
    "#add gridlines\n",
    "plt.grid(True)\n",
    "\n",
    "#add axis lables \n",
    "plt.ylabel ('Speed(m/s)')\n",
    "plt.xlabel ('Test(7mins)')\n",
    "\n",
    "#modify x axis limits\n",
    "\n",
    "plt.xlim(-1,)\n",
    "plt.ylim(-.1,)\n",
    "\n",
    "\n",
    "# define subplot 2\n",
    "plt.subplot(1,2,1)\n",
    "plt.plot(weather_data_quest.gust_speed, marker='o', color='b',linestyle='' )\n",
    "\n",
    "#add title\n",
    "plt.title('Gust Speed trend')\n",
    "\n",
    "#add gridlines\n",
    "plt.grid(True)\n",
    "\n",
    "#add axis lables \n",
    "plt.ylabel ('Speed(m/s)')\n",
    "plt.xlabel ('Test(7mins)')\n",
    "\n",
    "#modify x axis limits\n",
    "\n",
    "plt.xlim(-.1,)\n",
    "plt.ylim(-.25,)\n",
    "\n",
    "#gice plots some breathing room\n",
    "plt.tight_layout()\n",
    "\n",
    "#show plot \n",
    "plt.show()"
   ]
  },
  {
   "cell_type": "code",
   "execution_count": null,
   "metadata": {
    "collapsed": true
   },
   "outputs": [],
   "source": []
  }
 ],
 "metadata": {
  "kernelspec": {
   "display_name": "Python 3",
   "language": "python",
   "name": "python3"
  },
  "language_info": {
   "codemirror_mode": {
    "name": "ipython",
    "version": 3
   },
   "file_extension": ".py",
   "mimetype": "text/x-python",
   "name": "python",
   "nbconvert_exporter": "python",
   "pygments_lexer": "ipython3",
   "version": "3.4.3"
  }
 },
 "nbformat": 4,
 "nbformat_minor": 0
}
