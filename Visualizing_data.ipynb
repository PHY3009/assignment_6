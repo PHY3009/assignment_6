{
 "cells": [
  {
   "cell_type": "code",
   "execution_count": 201,
   "metadata": {
    "collapsed": true
   },
   "outputs": [],
   "source": [
    "import numpy\n",
    "import pandas\n",
    "import matplotlib.mlab as mlab\n",
    "import matplotlib.pyplot as plt\n",
    "%matplotlib inline"
   ]
  },
  {
   "cell_type": "code",
   "execution_count": 7,
   "metadata": {
    "collapsed": false
   },
   "outputs": [
    {
     "name": "stdout",
     "output_type": "stream",
     "text": [
      "[Errno 2] No such file or directory: 'Desktop'\n",
      "/Users/nicoharacrudele/Desktop\n"
     ]
    }
   ],
   "source": [
    "%cd Desktop"
   ]
  },
  {
   "cell_type": "code",
   "execution_count": 200,
   "metadata": {
    "collapsed": false
   },
   "outputs": [],
   "source": [
    "#here I import my dataset\n",
    "spacerdata = pandas.read_csv('spacers2.csv', sep = ',')"
   ]
  },
  {
   "cell_type": "markdown",
   "metadata": {},
   "source": [
    "#here i call on method to count the nucleotides in each spacer in the species."
   ]
  },
  {
   "cell_type": "code",
   "execution_count": 197,
   "metadata": {
    "collapsed": false,
    "scrolled": true
   },
   "outputs": [
    {
     "name": "stdout",
     "output_type": "stream",
     "text": [
      "8\n",
      "4\n",
      "5\n",
      "15\n"
     ]
    }
   ],
   "source": [
    "spacer0 = \"CGGTCGATATTAAGGCGGAAGAGGGGGAGGCC\"\n",
    "print (spacer0.count('A'))\n",
    "print (spacer0.count('T'))\n",
    "print (spacer0.count('C'))\n",
    "print (spacer0.count('G'))"
   ]
  },
  {
   "cell_type": "code",
   "execution_count": 198,
   "metadata": {
    "collapsed": false
   },
   "outputs": [
    {
     "name": "stdout",
     "output_type": "stream",
     "text": [
      "8\n",
      "7\n",
      "5\n",
      "12\n"
     ]
    }
   ],
   "source": [
    "spacer1 = \"CCGAGGCAGATAGAGCTGTGGAATGTGTCATG\"\n",
    "print (spacer1.count('A'))\n",
    "print (spacer1.count('T'))\n",
    "print (spacer1.count('C'))\n",
    "print (spacer1.count('G'))"
   ]
  },
  {
   "cell_type": "code",
   "execution_count": 110,
   "metadata": {
    "collapsed": false
   },
   "outputs": [
    {
     "name": "stdout",
     "output_type": "stream",
     "text": [
      "7\n",
      "8\n",
      "11\n",
      "6\n"
     ]
    }
   ],
   "source": [
    "spacer2 = \"CACGCTCTCCGTGCCTCAAATCCATTGTGAGA\"\n",
    "print (spacer2.count('A'))\n",
    "print (spacer2.count('T'))\n",
    "print (spacer2.count('C'))\n",
    "print (spacer2.count('G'))"
   ]
  },
  {
   "cell_type": "code",
   "execution_count": 199,
   "metadata": {
    "collapsed": false
   },
   "outputs": [
    {
     "name": "stdout",
     "output_type": "stream",
     "text": [
      "8\n",
      "6\n",
      "12\n",
      "6\n"
     ]
    }
   ],
   "source": [
    "spacer3 = \"ATAGCGGCACCTGCGCCAAACCCCATTTTCAG\"\n",
    "print (spacer3.count('A'))\n",
    "print (spacer3.count('T'))\n",
    "print (spacer3.count('C'))\n",
    "print (spacer3.count('G'))"
   ]
  },
  {
   "cell_type": "code",
   "execution_count": 112,
   "metadata": {
    "collapsed": false
   },
   "outputs": [
    {
     "name": "stdout",
     "output_type": "stream",
     "text": [
      "9\n",
      "8\n",
      "9\n",
      "6\n"
     ]
    }
   ],
   "source": [
    "spacer4 = \"TTCAGCGTTTGGCCATCAGCAAAAACTACCGT\"\n",
    "print (spacer4.count('A'))\n",
    "print (spacer4.count('T'))\n",
    "print (spacer4.count('C'))\n",
    "print (spacer4.count('G'))"
   ]
  },
  {
   "cell_type": "code",
   "execution_count": 113,
   "metadata": {
    "collapsed": false
   },
   "outputs": [
    {
     "name": "stdout",
     "output_type": "stream",
     "text": [
      "6\n",
      "7\n",
      "7\n",
      "12\n"
     ]
    }
   ],
   "source": [
    "spacer5 = \"CGGGGCGGCTGTTGGTAATGCAGACAATCCGT\"\n",
    "print (spacer5.count('A'))\n",
    "print (spacer5.count('T'))\n",
    "print (spacer5.count('C'))\n",
    "print (spacer5.count('G'))"
   ]
  },
  {
   "cell_type": "code",
   "execution_count": 114,
   "metadata": {
    "collapsed": false
   },
   "outputs": [
    {
     "name": "stdout",
     "output_type": "stream",
     "text": [
      "5\n",
      "7\n",
      "14\n",
      "6\n"
     ]
    }
   ],
   "source": [
    "spacer6 = \"TCGCCCACGGCCTGCCAAGACTTGCTCACTTC\"\n",
    "print (spacer6.count('A'))\n",
    "print (spacer6.count('T'))\n",
    "print (spacer6.count('C'))\n",
    "print (spacer6.count('G'))"
   ]
  },
  {
   "cell_type": "code",
   "execution_count": 115,
   "metadata": {
    "collapsed": false
   },
   "outputs": [
    {
     "name": "stdout",
     "output_type": "stream",
     "text": [
      "6\n",
      "8\n",
      "7\n",
      "11\n"
     ]
    }
   ],
   "source": [
    "spacer7 = \"GCGGTGGATAGGCCTTCCATATCTGGCAGGTA\"\n",
    "print (spacer7.count('A'))\n",
    "print (spacer7.count('T'))\n",
    "print (spacer7.count('C'))\n",
    "print (spacer7.count('G'))"
   ]
  },
  {
   "cell_type": "code",
   "execution_count": 116,
   "metadata": {
    "collapsed": false
   },
   "outputs": [
    {
     "name": "stdout",
     "output_type": "stream",
     "text": [
      "3\n",
      "7\n",
      "12\n",
      "10\n"
     ]
    }
   ],
   "source": [
    "spacer8 = \"CCCGCGTAGCATGTTTGCGCGTGCACCGCCTG\"\n",
    "print (spacer8.count('A'))\n",
    "print (spacer8.count('T'))\n",
    "print (spacer8.count('C'))\n",
    "print (spacer8.count('G'))"
   ]
  },
  {
   "cell_type": "code",
   "execution_count": 117,
   "metadata": {
    "collapsed": false
   },
   "outputs": [
    {
     "name": "stdout",
     "output_type": "stream",
     "text": [
      "3\n",
      "7\n",
      "10\n",
      "12\n"
     ]
    }
   ],
   "source": [
    "spacer9 = \"TCGGGCGTCTGGCCGGTCGCTGAGGCTCTCAA\"\n",
    "print (spacer9.count('A'))\n",
    "print (spacer9.count('T'))\n",
    "print (spacer9.count('C'))\n",
    "print (spacer9.count('G'))"
   ]
  },
  {
   "cell_type": "code",
   "execution_count": 118,
   "metadata": {
    "collapsed": false
   },
   "outputs": [
    {
     "name": "stdout",
     "output_type": "stream",
     "text": [
      "4\n",
      "6\n",
      "15\n",
      "7\n"
     ]
    }
   ],
   "source": [
    "spacer10 = \"CCGCCTGACCGTCTGACCTCCTGACCGCCTGA\"\n",
    "print (spacer10.count('A'))\n",
    "print (spacer10.count('T'))\n",
    "print (spacer10.count('C'))\n",
    "print (spacer10.count('G'))"
   ]
  },
  {
   "cell_type": "code",
   "execution_count": 119,
   "metadata": {
    "collapsed": false
   },
   "outputs": [
    {
     "name": "stdout",
     "output_type": "stream",
     "text": [
      "8\n",
      "5\n",
      "9\n",
      "10\n"
     ]
    }
   ],
   "source": [
    "spacer11 = \"GCGTATCGGTCACAAATGCAGAACCGGCTGGC\"\n",
    "print (spacer11.count('A'))\n",
    "print (spacer11.count('T'))\n",
    "print (spacer11.count('C'))\n",
    "print (spacer11.count('G'))"
   ]
  },
  {
   "cell_type": "code",
   "execution_count": 120,
   "metadata": {
    "collapsed": false
   },
   "outputs": [
    {
     "name": "stdout",
     "output_type": "stream",
     "text": [
      "8\n",
      "3\n",
      "8\n",
      "13\n"
     ]
    }
   ],
   "source": [
    "spacer12 = \"ACGCGCGCGGCGGGTAGTGTAAAGAACAGCGC\"\n",
    "print (spacer12.count('A'))\n",
    "print (spacer12.count('T'))\n",
    "print (spacer12.count('C'))\n",
    "print (spacer12.count('G'))"
   ]
  },
  {
   "cell_type": "code",
   "execution_count": 121,
   "metadata": {
    "collapsed": false
   },
   "outputs": [
    {
     "name": "stdout",
     "output_type": "stream",
     "text": [
      "7\n",
      "7\n",
      "13\n",
      "5\n"
     ]
    }
   ],
   "source": [
    "spacer13 = \"CCCCGACCGTTGGCAATATTACCATCACGCCT\"\n",
    "print (spacer13.count('A'))\n",
    "print (spacer13.count('T'))\n",
    "print (spacer13.count('C'))\n",
    "print (spacer13.count('G'))"
   ]
  },
  {
   "cell_type": "code",
   "execution_count": 123,
   "metadata": {
    "collapsed": false
   },
   "outputs": [
    {
     "name": "stdout",
     "output_type": "stream",
     "text": [
      "6\n",
      "10\n",
      "7\n",
      "9\n"
     ]
    }
   ],
   "source": [
    "spacer14 = \"ATATTTGGACAGTTCGCCCCGGCTGGTAATGT\"\n",
    "print (spacer14.count('A'))\n",
    "print (spacer14.count('T'))\n",
    "print (spacer14.count('C'))\n",
    "print (spacer14.count('G'))"
   ]
  },
  {
   "cell_type": "code",
   "execution_count": 125,
   "metadata": {
    "collapsed": false
   },
   "outputs": [
    {
     "name": "stdout",
     "output_type": "stream",
     "text": [
      "9\n",
      "8\n",
      "7\n",
      "8\n"
     ]
    }
   ],
   "source": [
    "spacer15 = \"TCGCAGCGGAAATCATTGTTGGCAATAATGCC\"\n",
    "print (spacer15.count('A'))\n",
    "print (spacer15.count('T'))\n",
    "print (spacer15.count('C'))\n",
    "print (spacer15.count('G'))"
   ]
  },
  {
   "cell_type": "code",
   "execution_count": 126,
   "metadata": {
    "collapsed": false
   },
   "outputs": [
    {
     "name": "stdout",
     "output_type": "stream",
     "text": [
      "5\n",
      "9\n",
      "10\n",
      "8\n"
     ]
    }
   ],
   "source": [
    "spacer16 = \"CGTGGCCCATGCATTCTTCTCTGGTGACGAAC\"\n",
    "print (spacer16.count('A'))\n",
    "print (spacer16.count('T'))\n",
    "print (spacer16.count('C'))\n",
    "print (spacer16.count('G'))"
   ]
  },
  {
   "cell_type": "code",
   "execution_count": 127,
   "metadata": {
    "collapsed": false
   },
   "outputs": [
    {
     "name": "stdout",
     "output_type": "stream",
     "text": [
      "12\n",
      "5\n",
      "10\n",
      "5\n"
     ]
    }
   ],
   "source": [
    "spacer17 = \"TAACAACAACCTAGCCGCCGTGGTAAATACCA\"\n",
    "print (spacer17.count('A'))\n",
    "print (spacer17.count('T'))\n",
    "print (spacer17.count('C'))\n",
    "print (spacer17.count('G'))"
   ]
  },
  {
   "cell_type": "code",
   "execution_count": 129,
   "metadata": {
    "collapsed": false
   },
   "outputs": [
    {
     "name": "stdout",
     "output_type": "stream",
     "text": [
      "12\n",
      "4\n",
      "8\n",
      "8\n"
     ]
    }
   ],
   "source": [
    "spacer18 = \"CAGCACAAAGCCAGAGACCAGAAGGTTTATGC\"\n",
    "print (spacer18.count('A'))\n",
    "print (spacer18.count('T'))\n",
    "print (spacer18.count('C'))\n",
    "print (spacer18.count('G'))"
   ]
  },
  {
   "cell_type": "code",
   "execution_count": 130,
   "metadata": {
    "collapsed": false
   },
   "outputs": [
    {
     "name": "stdout",
     "output_type": "stream",
     "text": [
      "4\n",
      "13\n",
      "6\n",
      "9\n"
     ]
    }
   ],
   "source": [
    "spacer19 = \"ATCTTGGGTTTGTTGACTTCCGGCATCGTGAT\"\n",
    "print (spacer19.count('A'))\n",
    "print (spacer19.count('T'))\n",
    "print (spacer19.count('C'))\n",
    "print (spacer19.count('G'))"
   ]
  },
  {
   "cell_type": "code",
   "execution_count": 131,
   "metadata": {
    "collapsed": false
   },
   "outputs": [
    {
     "name": "stdout",
     "output_type": "stream",
     "text": [
      "9\n",
      "4\n",
      "12\n",
      "7\n"
     ]
    }
   ],
   "source": [
    "spacer20 = \"AACAGCCCCGCATACCGGCGCATATTGACGCA\"\n",
    "print (spacer20.count('A'))\n",
    "print (spacer20.count('T'))\n",
    "print (spacer20.count('C'))\n",
    "print (spacer20.count('G'))"
   ]
  },
  {
   "cell_type": "code",
   "execution_count": 132,
   "metadata": {
    "collapsed": false
   },
   "outputs": [
    {
     "name": "stdout",
     "output_type": "stream",
     "text": [
      "6\n",
      "7\n",
      "10\n",
      "9\n"
     ]
    }
   ],
   "source": [
    "spacer21 = \"AATTGCCGGGTCTGGCCGCTACCTGCAAACTG\"\n",
    "print (spacer21.count('A'))\n",
    "print (spacer21.count('T'))\n",
    "print (spacer21.count('C'))\n",
    "print (spacer21.count('G'))"
   ]
  },
  {
   "cell_type": "code",
   "execution_count": 133,
   "metadata": {
    "collapsed": false
   },
   "outputs": [
    {
     "name": "stdout",
     "output_type": "stream",
     "text": [
      "15\n",
      "6\n",
      "6\n",
      "5\n"
     ]
    }
   ],
   "source": [
    "spacer22 = \"GCTAAAAATGGGTGATTCCAAAACCAAAACTA\"\n",
    "print (spacer22.count('A'))\n",
    "print (spacer22.count('T'))\n",
    "print (spacer22.count('C'))\n",
    "print (spacer22.count('G'))"
   ]
  },
  {
   "cell_type": "code",
   "execution_count": 137,
   "metadata": {
    "collapsed": false
   },
   "outputs": [
    {
     "name": "stdout",
     "output_type": "stream",
     "text": [
      "153\n",
      "150\n",
      "207\n",
      "194\n"
     ]
    }
   ],
   "source": [
    "#here I call on count to count all of the nucleotides in all 22 spacers.\n",
    "print ((spacer0.count('A'))+(spacer1.count('A'))+(spacer2.count('A'))+(spacer3.count('A'))+(spacer4.count('A'))+(spacer5.count('A'))+(spacer6.count('A'))+(spacer7.count('A'))+(spacer8.count('A'))+(spacer9.count('A'))+(spacer10.count('A'))+(spacer11.count('A'))+(spacer12.count('A'))+(spacer13.count('A'))+(spacer14.count('A'))+(spacer15.count('A'))+(spacer16.count('A'))+(spacer17.count('A'))+(spacer18.count('A'))+(spacer19.count('A'))+(spacer20.count('A'))+(spacer21.count('A')))\n",
    "\n",
    "print ((spacer0.count('T'))+(spacer1.count('T'))+(spacer2.count('T'))+(spacer3.count('T'))+(spacer4.count('T'))+(spacer5.count('T'))+(spacer6.count('T'))+(spacer7.count('T'))+(spacer8.count('T'))+(spacer9.count('T'))+(spacer10.count('T'))+(spacer11.count('T'))+(spacer12.count('T'))+(spacer13.count('T'))+(spacer14.count('T'))+(spacer15.count('T'))+(spacer16.count('T'))+(spacer17.count('T'))+(spacer18.count('T'))+(spacer19.count('T'))+(spacer20.count('T'))+(spacer21.count('T')))\n",
    "\n",
    "print ((spacer0.count('C'))+(spacer1.count('C'))+(spacer2.count('C'))+(spacer3.count('C'))+(spacer4.count('C'))+(spacer5.count('C'))+(spacer6.count('C'))+(spacer7.count('C'))+(spacer8.count('C'))+(spacer9.count('C'))+(spacer10.count('C'))+(spacer11.count('C'))+(spacer12.count('C'))+(spacer13.count('C'))+(spacer14.count('C'))+(spacer15.count('C'))+(spacer16.count('C'))+(spacer17.count('C'))+(spacer18.count('C'))+(spacer19.count('C'))+(spacer20.count('C'))+(spacer21.count('C')))\n",
    "\n",
    "print ((spacer0.count('G'))+(spacer1.count('G'))+(spacer2.count('G'))+(spacer3.count('G'))+(spacer4.count('G'))+(spacer5.count('G'))+(spacer6.count('G'))+(spacer7.count('G'))+(spacer8.count('G'))+(spacer9.count('G'))+(spacer10.count('G'))+(spacer11.count('G'))+(spacer12.count('G'))+(spacer13.count('G'))+(spacer14.count('G'))+(spacer15.count('G'))+(spacer16.count('G'))+(spacer17.count('G'))+(spacer18.count('G'))+(spacer19.count('G'))+(spacer20.count('G'))+(spacer21.count('G')))"
   ]
  },
  {
   "cell_type": "code",
   "execution_count": 139,
   "metadata": {
    "collapsed": true
   },
   "outputs": [],
   "source": [
    "nucleotide_data = pandas.read_csv('spacer_nucleotides.csv', sep = ',')"
   ]
  },
  {
   "cell_type": "code",
   "execution_count": 149,
   "metadata": {
    "collapsed": true
   },
   "outputs": [],
   "source": [
    "import matplotlib.pyplot as plt"
   ]
  },
  {
   "cell_type": "code",
   "execution_count": 185,
   "metadata": {
    "collapsed": false
   },
   "outputs": [
    {
     "data": {
      "text/plain": [
       "<bound method DataFrame.head of       spacer   A   T   C   G\n",
       "0    spacer0   8   4   5  15\n",
       "1    spacer1   8   7   5  12\n",
       "2    spacer2   7   8  11   6\n",
       "3    spacer3   8   6  12   6\n",
       "4    spacer4   9   8   9   6\n",
       "5    spacer5   6   7   7  12\n",
       "6    spacer6   5   7  14   6\n",
       "7    spacer7   6   8   7  11\n",
       "8    spacer8   3   7  12  10\n",
       "9    spacer9   3   7  10  12\n",
       "10  spacer10   4   6  15   7\n",
       "11  spacer11   8   5   9  10\n",
       "12  spacer12   8   3   8  13\n",
       "13  spacer13   7   7  13   5\n",
       "14  spacer14   6  10   7   9\n",
       "15  spacer15   9   8   7   8\n",
       "16  spacer16   5   9  10   8\n",
       "17  spacer17  12   5  10   5\n",
       "18  spacer18  12   4   8   8\n",
       "19  spacer19   4  13   6   9\n",
       "20  spacer20   9   4  12   7\n",
       "21  spacer21   6   7  10   9\n",
       "22  spacer22  15   6   6   5>"
      ]
     },
     "execution_count": 185,
     "metadata": {},
     "output_type": "execute_result"
    }
   ],
   "source": [
    "#this is the distribution of nucleotides across spacers.  Don't know how to remove head text\n",
    "nucleotide_data.head"
   ]
  },
  {
   "cell_type": "code",
   "execution_count": 202,
   "metadata": {
    "collapsed": false
   },
   "outputs": [
    {
     "data": {
      "text/html": [
       "<div>\n",
       "<table border=\"1\" class=\"dataframe\">\n",
       "  <thead>\n",
       "    <tr style=\"text-align: right;\">\n",
       "      <th></th>\n",
       "      <th>T</th>\n",
       "      <th>A</th>\n",
       "    </tr>\n",
       "  </thead>\n",
       "  <tbody>\n",
       "    <tr>\n",
       "      <th>0</th>\n",
       "      <td>4</td>\n",
       "      <td>8</td>\n",
       "    </tr>\n",
       "    <tr>\n",
       "      <th>1</th>\n",
       "      <td>7</td>\n",
       "      <td>8</td>\n",
       "    </tr>\n",
       "    <tr>\n",
       "      <th>2</th>\n",
       "      <td>8</td>\n",
       "      <td>7</td>\n",
       "    </tr>\n",
       "    <tr>\n",
       "      <th>3</th>\n",
       "      <td>6</td>\n",
       "      <td>8</td>\n",
       "    </tr>\n",
       "    <tr>\n",
       "      <th>4</th>\n",
       "      <td>8</td>\n",
       "      <td>9</td>\n",
       "    </tr>\n",
       "    <tr>\n",
       "      <th>5</th>\n",
       "      <td>7</td>\n",
       "      <td>6</td>\n",
       "    </tr>\n",
       "    <tr>\n",
       "      <th>6</th>\n",
       "      <td>7</td>\n",
       "      <td>5</td>\n",
       "    </tr>\n",
       "    <tr>\n",
       "      <th>7</th>\n",
       "      <td>8</td>\n",
       "      <td>6</td>\n",
       "    </tr>\n",
       "    <tr>\n",
       "      <th>8</th>\n",
       "      <td>7</td>\n",
       "      <td>3</td>\n",
       "    </tr>\n",
       "    <tr>\n",
       "      <th>9</th>\n",
       "      <td>7</td>\n",
       "      <td>3</td>\n",
       "    </tr>\n",
       "    <tr>\n",
       "      <th>10</th>\n",
       "      <td>6</td>\n",
       "      <td>4</td>\n",
       "    </tr>\n",
       "    <tr>\n",
       "      <th>11</th>\n",
       "      <td>5</td>\n",
       "      <td>8</td>\n",
       "    </tr>\n",
       "    <tr>\n",
       "      <th>12</th>\n",
       "      <td>3</td>\n",
       "      <td>8</td>\n",
       "    </tr>\n",
       "    <tr>\n",
       "      <th>13</th>\n",
       "      <td>7</td>\n",
       "      <td>7</td>\n",
       "    </tr>\n",
       "    <tr>\n",
       "      <th>14</th>\n",
       "      <td>10</td>\n",
       "      <td>6</td>\n",
       "    </tr>\n",
       "    <tr>\n",
       "      <th>15</th>\n",
       "      <td>8</td>\n",
       "      <td>9</td>\n",
       "    </tr>\n",
       "    <tr>\n",
       "      <th>16</th>\n",
       "      <td>9</td>\n",
       "      <td>5</td>\n",
       "    </tr>\n",
       "    <tr>\n",
       "      <th>17</th>\n",
       "      <td>5</td>\n",
       "      <td>12</td>\n",
       "    </tr>\n",
       "    <tr>\n",
       "      <th>18</th>\n",
       "      <td>4</td>\n",
       "      <td>12</td>\n",
       "    </tr>\n",
       "    <tr>\n",
       "      <th>19</th>\n",
       "      <td>13</td>\n",
       "      <td>4</td>\n",
       "    </tr>\n",
       "    <tr>\n",
       "      <th>20</th>\n",
       "      <td>4</td>\n",
       "      <td>9</td>\n",
       "    </tr>\n",
       "    <tr>\n",
       "      <th>21</th>\n",
       "      <td>7</td>\n",
       "      <td>6</td>\n",
       "    </tr>\n",
       "    <tr>\n",
       "      <th>22</th>\n",
       "      <td>6</td>\n",
       "      <td>15</td>\n",
       "    </tr>\n",
       "  </tbody>\n",
       "</table>\n",
       "</div>"
      ],
      "text/plain": [
       "     T   A\n",
       "0    4   8\n",
       "1    7   8\n",
       "2    8   7\n",
       "3    6   8\n",
       "4    8   9\n",
       "5    7   6\n",
       "6    7   5\n",
       "7    8   6\n",
       "8    7   3\n",
       "9    7   3\n",
       "10   6   4\n",
       "11   5   8\n",
       "12   3   8\n",
       "13   7   7\n",
       "14  10   6\n",
       "15   8   9\n",
       "16   9   5\n",
       "17   5  12\n",
       "18   4  12\n",
       "19  13   4\n",
       "20   4   9\n",
       "21   7   6\n",
       "22   6  15"
      ]
     },
     "execution_count": 202,
     "metadata": {},
     "output_type": "execute_result"
    }
   ],
   "source": [
    "#here I create a table of Adenine and Thymine in each spacer sequence\n",
    "nucleotide_data[['T', 'A']]"
   ]
  },
  {
   "cell_type": "code",
   "execution_count": 182,
   "metadata": {
    "collapsed": false
   },
   "outputs": [
    {
     "name": "stderr",
     "output_type": "stream",
     "text": [
      "/Users/nicoharacrudele/anaconda/lib/python3.4/site-packages/pandas/tools/plotting.py:2633: FutureWarning: \n",
      "The default value for 'return_type' will change to 'axes' in a future release.\n",
      " To use the future behavior now, set return_type='axes'.\n",
      " To keep the previous behavior and silence this warning, set return_type='dict'.\n",
      "  warnings.warn(msg, FutureWarning)\n"
     ]
    },
    {
     "data": {
      "text/plain": [
       "<matplotlib.text.Text at 0x10950f438>"
      ]
     },
     "execution_count": 182,
     "metadata": {},
     "output_type": "execute_result"
    },
    {
     "data": {
      "image/png": "[encoded data removed]",
      "text/plain": [
       "<matplotlib.figure.Figure at 0x10900ff98>"
      ]
     },
     "metadata": {},
     "output_type": "display_data"
    }
   ],
   "source": [
    "#boxplot\n",
    "#won't work with more than two columns.\n",
    "nucleotide_data[['A', 'T',]].boxplot()\n",
    "plt.ylabel('number of base in CRISPR spacers')\n",
    "plt.xlabel('bases')\n",
    "plt.title('CRISPR spacer beginning nucleotide distribution')"
   ]
  },
  {
   "cell_type": "code",
   "execution_count": 184,
   "metadata": {
    "collapsed": false
   },
   "outputs": [
    {
     "data": {
      "image/png": "[encoded data removed]",
      "text/plain": [
       "<matplotlib.figure.Figure at 0x109a52ba8>"
      ]
     },
     "metadata": {},
     "output_type": "display_data"
    }
   ],
   "source": [
    "#here i create a bar graph of nucleotide distribution, \n",
    "#won't work if I add more than two columns\n",
    "\n",
    "import matplotlib.pyplot as plt\n",
    "plt.rcdefaults()\n",
    "import numpy as np\n",
    "import matplotlib.pyplot as plt\n",
    "\n",
    "bases = ('A', 'T')\n",
    "y_pos = np.arange(len(bases))\n",
    "error = np.random.rand(len(bases))\n",
    "\n",
    "plt.barh(y_pos, performance, xerr=error, align='center', alpha=0.4)\n",
    "plt.yticks(y_pos, bases)\n",
    "plt.ylabel('bases')\n",
    "plt.xlabel('number of base in CRISPR spacers')\n",
    "plt.title('CRISPR spacer beginning nucleotide distribution')\n",
    "\n",
    "plt.show()"
   ]
  },
  {
   "cell_type": "code",
   "execution_count": 173,
   "metadata": {
    "collapsed": false
   },
   "outputs": [],
   "source": []
  },
  {
   "cell_type": "code",
   "execution_count": 158,
   "metadata": {
    "collapsed": false
   },
   "outputs": [],
   "source": [
    "return_type='axes'"
   ]
  },
  {
   "cell_type": "code",
   "execution_count": 176,
   "metadata": {
    "collapsed": false
   },
   "outputs": [
    {
     "ename": "TypeError",
     "evalue": "pie() got an unexpected keyword argument 'center'",
     "output_type": "error",
     "traceback": [
      "\u001b[0;31m---------------------------------------------------------------------------\u001b[0m",
      "\u001b[0;31mTypeError\u001b[0m                                 Traceback (most recent call last)",
      "\u001b[0;32m<ipython-input-176-3f47f4b9d704>\u001b[0m in \u001b[0;36m<module>\u001b[0;34m()\u001b[0m\n\u001b[1;32m     21\u001b[0m ax.pie(np.random.random(4), explode=explode, labels=labels, colors=colors,\n\u001b[1;32m     22\u001b[0m        \u001b[0mautopct\u001b[0m\u001b[0;34m=\u001b[0m\u001b[0;34m'%1.1f%%'\u001b[0m\u001b[0;34m,\u001b[0m \u001b[0mshadow\u001b[0m\u001b[0;34m=\u001b[0m\u001b[0;32mTrue\u001b[0m\u001b[0;34m,\u001b[0m \u001b[0mstartangle\u001b[0m\u001b[0;34m=\u001b[0m\u001b[0;36m90\u001b[0m\u001b[0;34m,\u001b[0m\u001b[0;34m\u001b[0m\u001b[0m\n\u001b[0;32m---> 23\u001b[0;31m        radius=0.25, center=(0, 0), frame=True)\n\u001b[0m\u001b[1;32m     24\u001b[0m ax.pie(np.random.random(4), explode=explode, labels=labels, colors=colors,\n\u001b[1;32m     25\u001b[0m        \u001b[0mautopct\u001b[0m\u001b[0;34m=\u001b[0m\u001b[0;34m'%1.1f%%'\u001b[0m\u001b[0;34m,\u001b[0m \u001b[0mshadow\u001b[0m\u001b[0;34m=\u001b[0m\u001b[0;32mTrue\u001b[0m\u001b[0;34m,\u001b[0m \u001b[0mstartangle\u001b[0m\u001b[0;34m=\u001b[0m\u001b[0;36m90\u001b[0m\u001b[0;34m,\u001b[0m\u001b[0;34m\u001b[0m\u001b[0m\n",
      "\u001b[0;31mTypeError\u001b[0m: pie() got an unexpected keyword argument 'center'"
     ]
    },
    {
     "data": {
      "image/png": "[encoded data removed]",
      "text/plain": [
       "<matplotlib.figure.Figure at 0x10a9a2470>"
      ]
     },
     "metadata": {},
     "output_type": "display_data"
    },
    {
     "data": {
      "image/png": "[encoded data removed]",
      "text/plain": [
       "<matplotlib.figure.Figure at 0x10ac4ff28>"
      ]
     },
     "metadata": {},
     "output_type": "display_data"
    }
   ],
   "source": [
    "# here I create a pie chart of the distribution of base pairs \n",
    "import matplotlib.pyplot as plt\n",
    "\n",
    "# The slices will be ordered and plotted counter-clockwise.\n",
    "labels = 'A', 'T', 'C', 'G'\n",
    "sizes = [153, 150, 207, 194]\n",
    "colors = ['yellowgreen', 'gold', 'lightskyblue', 'lightcoral']\n",
    "explode = (0, 0.1, 0, 0)  # only \"explode\" the 2nd slice (i.e. 'Hogs')\n",
    "\n",
    "plt.pie(sizes, explode=explode, labels=labels, colors=colors,\n",
    "        autopct='%1.1f%%', shadow=True, startangle=90)\n",
    "# Set aspect ratio to be equal so that pie is drawn as a circle.\n",
    "plt.axis('equal')\n",
    "\n",
    "fig = plt.figure()\n",
    "ax = fig.gca()\n",
    "import numpy as np\n",
    "\n",
    "ax.pie(np.random.random(4), explode=explode, labels=labels, colors=colors,\n",
    "       autopct='%1.1f%%', shadow=True, startangle=90,\n",
    "       radius=0.25, center=(0, 0), frame=True)\n",
    "ax.pie(np.random.random(4), explode=explode, labels=labels, colors=colors,\n",
    "       autopct='%1.1f%%', shadow=True, startangle=90,\n",
    "       radius=0.25, center=(1, 1), frame=True)\n",
    "ax.pie(np.random.random(4), explode=explode, labels=labels, colors=colors,\n",
    "       autopct='%1.1f%%', shadow=True, startangle=90,\n",
    "       radius=0.25, center=(0, 1), frame=True)\n",
    "ax.pie(np.random.random(4), explode=explode, labels=labels, colors=colors,\n",
    "       autopct='%1.1f%%', shadow=True, startangle=90,\n",
    "       radius=0.25, center=(1, 0), frame=True)\n",
    "\n",
    "ax.set_xticks([0, 1])\n",
    "ax.set_yticks([0, 1])\n",
    "ax.set_xlim((-0.5, 1.5))\n",
    "ax.set_ylim((-0.5, 1.5))\n",
    "plt.title('Nucleotide Distribution')\n",
    "\n",
    "# Set aspect ratio to be equal so that pie is drawn as a circle.\n",
    "ax.set_aspect('equal')\n",
    "\n",
    "plt.show()"
   ]
  },
  {
   "cell_type": "markdown",
   "metadata": {},
   "source": [
    "#I chose to use these three plots because they were easy to find.  I've learned that with the nucleotide_data[['A', 'T',]] form of selection, I can only use two columns.  I need another way to input columns into these graphs.  Pie chart worked, as it uses a different method for inputing data."
   ]
  }
 ],
 "metadata": {
  "kernelspec": {
   "display_name": "Python 3",
   "language": "python",
   "name": "python3"
  },
  "language_info": {
   "codemirror_mode": {
    "name": "ipython",
    "version": 3
   },
   "file_extension": ".py",
   "mimetype": "text/x-python",
   "name": "python",
   "nbconvert_exporter": "python",
   "pygments_lexer": "ipython3",
   "version": "3.4.3"
  }
 },
 "nbformat": 4,
 "nbformat_minor": 0
}
