{
 "cells": [
  {
   "cell_type": "code",
   "execution_count": 9,
   "metadata": {
    "collapsed": true
   },
   "outputs": [],
   "source": [
    "# import the pandas and matplotlib library\n",
    "import pandas as pd \n",
    "import matplotlib.pyplot as plt\n",
    "\n",
    "# show plots in the notebook\n",
    "%matplotlib inline \n",
    "\n",
    "# this limit the data that will be shown, so I won't be seeing a huge dataset, but the first and last few\n",
    "from pandas import set_option\n",
    "set_option('display.max_rows',6)"
   ]
  },
  {
   "cell_type": "code",
   "execution_count": 4,
   "metadata": {
    "collapsed": false
   },
   "outputs": [
    {
     "data": {
      "text/html": [
       "<div>\n",
       "<table border=\"1\" class=\"dataframe\">\n",
       "  <thead>\n",
       "    <tr style=\"text-align: right;\">\n",
       "      <th></th>\n",
       "      <th>VALUE</th>\n",
       "      <th>COUNT</th>\n",
       "      <th>AREA</th>\n",
       "      <th>MIN</th>\n",
       "      <th>MAX</th>\n",
       "      <th>RANGE</th>\n",
       "      <th>MEAN</th>\n",
       "      <th>STD</th>\n",
       "      <th>SUM</th>\n",
       "    </tr>\n",
       "  </thead>\n",
       "  <tbody>\n",
       "    <tr>\n",
       "      <th>0</th>\n",
       "      <td>1</td>\n",
       "      <td>5027766</td>\n",
       "      <td>0.722193</td>\n",
       "      <td>-99.90</td>\n",
       "      <td>20.88</td>\n",
       "      <td>120.78</td>\n",
       "      <td>11.12530</td>\n",
       "      <td>25.130000</td>\n",
       "      <td>55935200.00</td>\n",
       "    </tr>\n",
       "    <tr>\n",
       "      <th>1</th>\n",
       "      <td>2</td>\n",
       "      <td>1515456</td>\n",
       "      <td>0.217682</td>\n",
       "      <td>-99.90</td>\n",
       "      <td>20.88</td>\n",
       "      <td>120.78</td>\n",
       "      <td>14.51680</td>\n",
       "      <td>14.574300</td>\n",
       "      <td>21999600.00</td>\n",
       "    </tr>\n",
       "    <tr>\n",
       "      <th>2</th>\n",
       "      <td>3</td>\n",
       "      <td>1099428</td>\n",
       "      <td>0.157923</td>\n",
       "      <td>-99.90</td>\n",
       "      <td>20.88</td>\n",
       "      <td>120.78</td>\n",
       "      <td>14.66240</td>\n",
       "      <td>11.398700</td>\n",
       "      <td>16120200.00</td>\n",
       "    </tr>\n",
       "    <tr>\n",
       "      <th>...</th>\n",
       "      <td>...</td>\n",
       "      <td>...</td>\n",
       "      <td>...</td>\n",
       "      <td>...</td>\n",
       "      <td>...</td>\n",
       "      <td>...</td>\n",
       "      <td>...</td>\n",
       "      <td>...</td>\n",
       "      <td>...</td>\n",
       "    </tr>\n",
       "    <tr>\n",
       "      <th>76</th>\n",
       "      <td>77</td>\n",
       "      <td>236</td>\n",
       "      <td>0.000034</td>\n",
       "      <td>0.51</td>\n",
       "      <td>3.15</td>\n",
       "      <td>2.64</td>\n",
       "      <td>1.46449</td>\n",
       "      <td>0.995280</td>\n",
       "      <td>345.62</td>\n",
       "    </tr>\n",
       "    <tr>\n",
       "      <th>77</th>\n",
       "      <td>78</td>\n",
       "      <td>59</td>\n",
       "      <td>0.000008</td>\n",
       "      <td>0.51</td>\n",
       "      <td>2.25</td>\n",
       "      <td>1.74</td>\n",
       "      <td>1.12932</td>\n",
       "      <td>0.833103</td>\n",
       "      <td>66.63</td>\n",
       "    </tr>\n",
       "    <tr>\n",
       "      <th>78</th>\n",
       "      <td>79</td>\n",
       "      <td>15</td>\n",
       "      <td>0.000002</td>\n",
       "      <td>0.51</td>\n",
       "      <td>0.51</td>\n",
       "      <td>0.00</td>\n",
       "      <td>0.51000</td>\n",
       "      <td>0.000000</td>\n",
       "      <td>7.65</td>\n",
       "    </tr>\n",
       "  </tbody>\n",
       "</table>\n",
       "<p>79 rows × 9 columns</p>\n",
       "</div>"
      ],
      "text/plain": [
       "    VALUE    COUNT      AREA    MIN    MAX   RANGE      MEAN        STD  \\\n",
       "0       1  5027766  0.722193 -99.90  20.88  120.78  11.12530  25.130000   \n",
       "1       2  1515456  0.217682 -99.90  20.88  120.78  14.51680  14.574300   \n",
       "2       3  1099428  0.157923 -99.90  20.88  120.78  14.66240  11.398700   \n",
       "..    ...      ...       ...    ...    ...     ...       ...        ...   \n",
       "76     77      236  0.000034   0.51   3.15    2.64   1.46449   0.995280   \n",
       "77     78       59  0.000008   0.51   2.25    1.74   1.12932   0.833103   \n",
       "78     79       15  0.000002   0.51   0.51    0.00   0.51000   0.000000   \n",
       "\n",
       "          SUM\\r  \n",
       "0   55935200.00  \n",
       "1   21999600.00  \n",
       "2   16120200.00  \n",
       "..          ...  \n",
       "76       345.62  \n",
       "77        66.63  \n",
       "78         7.65  \n",
       "\n",
       "[79 rows x 9 columns]"
      ]
     },
     "execution_count": 4,
     "metadata": {},
     "output_type": "execute_result"
    }
   ],
   "source": [
    "# load dataset\n",
    "filename = 't198201_elev.csv'\n",
    "\n",
    "temp82_01 = pd.read_csv(filename, sep=',')\n",
    "temp82_01"
   ]
  },
  {
   "cell_type": "code",
   "execution_count": 7,
   "metadata": {
    "collapsed": true
   },
   "outputs": [],
   "source": [
    "temp82_01['Elevation']=temp82_01['VALUE']*50"
   ]
  },
  {
   "cell_type": "code",
   "execution_count": 19,
   "metadata": {
    "collapsed": false
   },
   "outputs": [
    {
     "data": {
      "text/plain": [
       "<matplotlib.text.Text at 0x10995dcf8>"
      ]
     },
     "execution_count": 19,
     "metadata": {},
     "output_type": "execute_result"
    },
    {
     "data": {
      "image/png": "[encoded data removed]",
      "text/plain": [
       "<matplotlib.figure.Figure at 0x109982e48>"
      ]
     },
     "metadata": {},
     "output_type": "display_data"
    }
   ],
   "source": [
    "plt.plot(temp82_01.Elevation, temp82_01.MEAN, marker='o',markersize=2, linestyle='')\n",
    "plt.xlabel(\"Elevation (m)\")\n",
    "plt.ylabel(\"Temperature (°c)\")"
   ]
  },
  {
   "cell_type": "markdown",
   "metadata": {},
   "source": [
    "I decided to use a scatterplot to show the relationship between temperature and elevation. This scatterplot helps me visualized how the temperature changes with elevation. Scatterplot is a good way to visualize the relationship between an independent variable and a dependent variable. This plot shows me that temperature decreases with increased elevation. It also shows two anomaly: a sudden increase of temperature from 0m to 50m, and a sudden increase at around 3900m.  "
   ]
  },
  {
   "cell_type": "code",
   "execution_count": 40,
   "metadata": {
    "collapsed": false
   },
   "outputs": [
    {
     "data": {
      "text/plain": [
       "<matplotlib.text.Text at 0x10b6f4a90>"
      ]
     },
     "execution_count": 40,
     "metadata": {},
     "output_type": "execute_result"
    },
    {
     "data": {
      "image/png": "[encoded data removed]",
      "text/plain": [
       "<matplotlib.figure.Figure at 0x10b63f400>"
      ]
     },
     "metadata": {},
     "output_type": "display_data"
    }
   ],
   "source": [
    "matplotlib.pyplot.figure(figsize=(7,10))\n",
    "\n",
    "plt.violinplot(temp82_01['MEAN'],showmeans=True)\n",
    "plt.ylabel(\"Temperature (°c)\")"
   ]
  },
  {
   "cell_type": "markdown",
   "metadata": {},
   "source": [
    "I decided to use a violinplot to see the distribution of temperature in January 1982 (in all elevation) and it's mean and median. I found out that the mean and median is extremely close, so I decided to just graph the mean and not both for simplicity. The graph shows me the mean temperature of JAnuary 1982 is around 7.8 degree Celsius, and most of the temperature is around 5 and 13 degree Celsius. "
   ]
  },
  {
   "cell_type": "code",
   "execution_count": 44,
   "metadata": {
    "collapsed": false
   },
   "outputs": [
    {
     "data": {
      "text/plain": [
       "<matplotlib.text.Text at 0x10bdb3278>"
      ]
     },
     "execution_count": 44,
     "metadata": {},
     "output_type": "execute_result"
    },
    {
     "data": {
      "image/png": "[encoded data removed]",
      "text/plain": [
       "<matplotlib.figure.Figure at 0x10bcdb978>"
      ]
     },
     "metadata": {},
     "output_type": "display_data"
    }
   ],
   "source": [
    "matplotlib.pyplot.figure(figsize=(7,10))\n",
    "\n",
    "plt.hist(temp82_01['MEAN'])\n",
    "plt.xlabel('Temperature (°c)')\n",
    "plt.ylabel('Frequency')"
   ]
  },
  {
   "cell_type": "code",
   "execution_count": 42,
   "metadata": {
    "collapsed": false
   },
   "outputs": [
    {
     "data": {
      "text/plain": [
       "<matplotlib.text.Text at 0x10b6e9710>"
      ]
     },
     "execution_count": 42,
     "metadata": {},
     "output_type": "execute_result"
    },
    {
     "data": {
      "image/png": "[encoded data removed]",
      "text/plain": [
       "<matplotlib.figure.Figure at 0x10bb4c198>"
      ]
     },
     "metadata": {},
     "output_type": "display_data"
    }
   ],
   "source": [
    "plt.boxplot(temp82_01['MEAN'])\n",
    "plt.ylabel('Temperature (°c)')\n",
    "plt.xlabel(\"January 1982\")"
   ]
  },
  {
   "cell_type": "markdown",
   "metadata": {},
   "source": [
    "I decided to use a boxplot to see the temperature in January 1982. This gives shows me the average (or median to be percise) temperature of January 1982, which I can use to compare with different years of January. This plot shows me that the median temperature in January 1982 is around 7.5-8 degree Celsius, and the range of temperature is around 12 to 4 degree Celsius.\n",
    "Boxplot will be extremely useful when I load the entire dataset (from 1982 to 2012), and I can see the temperature changes in each month, each year, or each decade. "
   ]
  },
  {
   "cell_type": "code",
   "execution_count": null,
   "metadata": {
    "collapsed": true
   },
   "outputs": [],
   "source": []
  },
  {
   "cell_type": "code",
   "execution_count": null,
   "metadata": {
    "collapsed": true
   },
   "outputs": [],
   "source": []
  }
 ],
 "metadata": {
  "kernelspec": {
   "display_name": "Python 3",
   "language": "python",
   "name": "python3"
  },
  "language_info": {
   "codemirror_mode": {
    "name": "ipython",
    "version": 3
   },
   "file_extension": ".py",
   "mimetype": "text/x-python",
   "name": "python",
   "nbconvert_exporter": "python",
   "pygments_lexer": "ipython3",
   "version": "3.4.3"
  }
 },
 "nbformat": 4,
 "nbformat_minor": 0
}
