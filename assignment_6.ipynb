{
 "cells": [
  {
   "cell_type": "code",
   "execution_count": 39,
   "metadata": {
    "collapsed": true
   },
   "outputs": [],
   "source": [
    "#imports libraries\n",
    "import pandas as pd, matplotlib.pyplot as plt\n",
    "\n",
    "#display plots inline\n",
    "%matplotlib inline"
   ]
  },
  {
   "cell_type": "code",
   "execution_count": 40,
   "metadata": {
    "collapsed": false
   },
   "outputs": [],
   "source": [
    "#loads data into pandas data frame\n",
    "drc_data = pd.read_excel('DRC_data.xlsx')"
   ]
  },
  {
   "cell_type": "code",
   "execution_count": 58,
   "metadata": {
    "collapsed": false
   },
   "outputs": [],
   "source": [
    "#information on actors, location and fatalities for each event\n",
    "year_data = drc_data[['LOCATION', 'FATALITIES', 'ACTOR1']]\n",
    "\n",
    "year_data.index = drc_data['EVENT_DATE']"
   ]
  },
  {
   "cell_type": "code",
   "execution_count": 42,
   "metadata": {
    "collapsed": false
   },
   "outputs": [
    {
     "name": "stdout",
     "output_type": "stream",
     "text": [
      "ACTOR1\n",
      "ADFL: Alliance of Democratic Forces for Liberation         26456\n",
      "LRA: Lord's Resistance Army                                 4389\n",
      "Military Forces of Democratic Republic of Congo (2001-)     4342\n",
      "Lendu Ethnic Militia (Democratic Republic of Congo)         3504\n",
      "RCD-Goma: Rally for Congolese Democracy (Goma)              3184\n",
      "Name: FATALITIES, dtype: int64\n"
     ]
    }
   ],
   "source": [
    "#data for each actor\n",
    "actor_data = year_data.groupby(by = 'ACTOR1')['FATALITIES'].sum()\n",
    "\n",
    "#prints five most violent groups \n",
    "print(actor_data.order(ascending = False).head(5))"
   ]
  },
  {
   "cell_type": "code",
   "execution_count": 63,
   "metadata": {
    "collapsed": false
   },
   "outputs": [
    {
     "data": {
      "image/png": "[encoded data removed]",
      "text/plain": [
       "<matplotlib.figure.Figure at 0x7d946d8>"
      ]
     },
     "metadata": {},
     "output_type": "display_data"
    }
   ],
   "source": [
    "#plots ADFL fatalities over time\n",
    "year_data.index = pd.to_datetime(year_data.index)\n",
    "\n",
    "#resamples for each year\n",
    "resampled_data = year_data.resample('A', how = \"sum\")\n",
    "\n",
    "#plots the data\n",
    "plt.plot(resampled_data.index, resampled_data['FATALITIES'])\n",
    "\n",
    "#add axis labels\n",
    "plt.ylabel('Fatalities')\n",
    "plt.xlabel('Year')\n",
    "\n",
    "#title\n",
    "plt.title('ADFL Violence over time')\n",
    "\n",
    "#gridlines\n",
    "plt.grid(True)"
   ]
  },
  {
   "cell_type": "code",
   "execution_count": null,
   "metadata": {
    "collapsed": true
   },
   "outputs": [],
   "source": []
  },
  {
   "cell_type": "code",
   "execution_count": null,
   "metadata": {
    "collapsed": true
   },
   "outputs": [],
   "source": []
  },
  {
   "cell_type": "code",
   "execution_count": null,
   "metadata": {
    "collapsed": true
   },
   "outputs": [],
   "source": []
  }
 ],
 "metadata": {
  "kernelspec": {
   "display_name": "Python 3",
   "language": "python",
   "name": "python3"
  },
  "language_info": {
   "codemirror_mode": {
    "name": "ipython",
    "version": 3
   },
   "file_extension": ".py",
   "mimetype": "text/x-python",
   "name": "python",
   "nbconvert_exporter": "python",
   "pygments_lexer": "ipython3",
   "version": "3.4.3"
  }
 },
 "nbformat": 4,
 "nbformat_minor": 0
}
